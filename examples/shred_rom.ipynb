{
 "cells": [
  {
   "cell_type": "markdown",
   "metadata": {},
   "source": [
    "# ROM-SHRED Tutorial on Kuramoto Sivashinsky"
   ]
  },
  {
   "cell_type": "markdown",
   "metadata": {},
   "source": [
    "#### Import Libraries"
   ]
  },
  {
   "cell_type": "code",
   "execution_count": 71,
   "metadata": {},
   "outputs": [
    {
     "name": "stdout",
     "output_type": "stream",
     "text": [
      "The autoreload extension is already loaded. To reload it, use:\n",
      "  %reload_ext autoreload\n"
     ]
    }
   ],
   "source": [
    "# PYSHRED\n",
    "%load_ext autoreload\n",
    "%autoreload 2\n",
    "from pyshred import ParametricDataManager, SHRED, SHREDEngine\n",
    "\n",
    "# Other helper libraries\n",
    "import matplotlib.pyplot as plt\n",
    "from scipy.io import loadmat\n",
    "import torch\n",
    "import numpy as np"
   ]
  },
  {
   "cell_type": "markdown",
   "metadata": {},
   "source": [
    "#### Load Kuramoto Sivashinsky dataset"
   ]
  },
  {
   "cell_type": "code",
   "execution_count": null,
   "metadata": {},
   "outputs": [],
   "source": [
    "import numpy as np\n",
    "import urllib.request\n",
    "# URL of the NPZ file\n",
    "url = 'https://zenodo.org/records/14524524/files/KuramotoSivashinsky_data.npz?download=1'\n",
    "# Local filename to save the downloaded file\n",
    "filename = 'KuramotoSivashinsky_data.npz'\n",
    "# Download the file from the URL\n",
    "urllib.request.urlretrieve(url, filename)\n",
    "# Load the data from the NPZ file\n",
    "dataset = np.load(filename)"
   ]
  },
  {
   "cell_type": "markdown",
   "metadata": {},
   "source": [
    "#### Initialize Data Manager"
   ]
  },
  {
   "cell_type": "code",
   "execution_count": 66,
   "metadata": {},
   "outputs": [],
   "source": [
    "# Initialize ParametricSHREDDataManager\n",
    "manager = ParametricDataManager(\n",
    "    lags = 21,\n",
    "    train_size = 0.8,\n",
    "    val_size = 0.1,\n",
    "    test_size = 0.1,\n",
    "    )"
   ]
  },
  {
   "cell_type": "markdown",
   "metadata": {},
   "source": [
    "#### Add datasets and sensors"
   ]
  },
  {
   "cell_type": "code",
   "execution_count": 67,
   "metadata": {},
   "outputs": [],
   "source": [
    "data = dataset['u'] # shape (500, 201, 100)\n",
    "# mu = dataset['mu'] # shape (500, 201, 2)\n",
    "\n",
    "manager.add_data(\n",
    "    data=data,\n",
    "    # random=3,\n",
    "    stationary=[(15,),(30,),(45,)],\n",
    "    # params=mu,\n",
    "    id = 'KS',\n",
    "    compress = False\n",
    ")"
   ]
  },
  {
   "cell_type": "markdown",
   "metadata": {},
   "source": [
    "#### Analyze sensor summary"
   ]
  },
  {
   "cell_type": "code",
   "execution_count": 68,
   "metadata": {},
   "outputs": [
    {
     "data": {
      "text/html": [
       "<div>\n",
       "<style scoped>\n",
       "    .dataframe tbody tr th:only-of-type {\n",
       "        vertical-align: middle;\n",
       "    }\n",
       "\n",
       "    .dataframe tbody tr th {\n",
       "        vertical-align: top;\n",
       "    }\n",
       "\n",
       "    .dataframe thead th {\n",
       "        text-align: right;\n",
       "    }\n",
       "</style>\n",
       "<table border=\"1\" class=\"dataframe\">\n",
       "  <thead>\n",
       "    <tr style=\"text-align: right;\">\n",
       "      <th></th>\n",
       "      <th>DS-0</th>\n",
       "      <th>DS-1</th>\n",
       "      <th>DS-2</th>\n",
       "    </tr>\n",
       "  </thead>\n",
       "  <tbody>\n",
       "    <tr>\n",
       "      <th>0</th>\n",
       "      <td>1.258974</td>\n",
       "      <td>-0.169609</td>\n",
       "      <td>-0.222487</td>\n",
       "    </tr>\n",
       "    <tr>\n",
       "      <th>1</th>\n",
       "      <td>1.310099</td>\n",
       "      <td>-0.145623</td>\n",
       "      <td>-0.422734</td>\n",
       "    </tr>\n",
       "    <tr>\n",
       "      <th>2</th>\n",
       "      <td>1.377290</td>\n",
       "      <td>-0.085841</td>\n",
       "      <td>-0.576607</td>\n",
       "    </tr>\n",
       "    <tr>\n",
       "      <th>3</th>\n",
       "      <td>1.453632</td>\n",
       "      <td>-0.038841</td>\n",
       "      <td>-0.728031</td>\n",
       "    </tr>\n",
       "    <tr>\n",
       "      <th>4</th>\n",
       "      <td>1.522495</td>\n",
       "      <td>-0.006997</td>\n",
       "      <td>-0.901799</td>\n",
       "    </tr>\n",
       "    <tr>\n",
       "      <th>...</th>\n",
       "      <td>...</td>\n",
       "      <td>...</td>\n",
       "      <td>...</td>\n",
       "    </tr>\n",
       "    <tr>\n",
       "      <th>100495</th>\n",
       "      <td>0.890233</td>\n",
       "      <td>-0.398904</td>\n",
       "      <td>2.244036</td>\n",
       "    </tr>\n",
       "    <tr>\n",
       "      <th>100496</th>\n",
       "      <td>0.825840</td>\n",
       "      <td>-0.105987</td>\n",
       "      <td>2.078920</td>\n",
       "    </tr>\n",
       "    <tr>\n",
       "      <th>100497</th>\n",
       "      <td>0.100336</td>\n",
       "      <td>0.115727</td>\n",
       "      <td>1.665149</td>\n",
       "    </tr>\n",
       "    <tr>\n",
       "      <th>100498</th>\n",
       "      <td>-1.266814</td>\n",
       "      <td>0.278429</td>\n",
       "      <td>1.136558</td>\n",
       "    </tr>\n",
       "    <tr>\n",
       "      <th>100499</th>\n",
       "      <td>-2.361713</td>\n",
       "      <td>0.389914</td>\n",
       "      <td>0.614612</td>\n",
       "    </tr>\n",
       "  </tbody>\n",
       "</table>\n",
       "<p>100500 rows × 3 columns</p>\n",
       "</div>"
      ],
      "text/plain": [
       "            DS-0      DS-1      DS-2\n",
       "0       1.258974 -0.169609 -0.222487\n",
       "1       1.310099 -0.145623 -0.422734\n",
       "2       1.377290 -0.085841 -0.576607\n",
       "3       1.453632 -0.038841 -0.728031\n",
       "4       1.522495 -0.006997 -0.901799\n",
       "...          ...       ...       ...\n",
       "100495  0.890233 -0.398904  2.244036\n",
       "100496  0.825840 -0.105987  2.078920\n",
       "100497  0.100336  0.115727  1.665149\n",
       "100498 -1.266814  0.278429  1.136558\n",
       "100499 -2.361713  0.389914  0.614612\n",
       "\n",
       "[100500 rows x 3 columns]"
      ]
     },
     "execution_count": 68,
     "metadata": {},
     "output_type": "execute_result"
    }
   ],
   "source": [
    "manager.sensor_measurements_df"
   ]
  },
  {
   "cell_type": "code",
   "execution_count": 58,
   "metadata": {},
   "outputs": [
    {
     "data": {
      "text/html": [
       "<div>\n",
       "<style scoped>\n",
       "    .dataframe tbody tr th:only-of-type {\n",
       "        vertical-align: middle;\n",
       "    }\n",
       "\n",
       "    .dataframe tbody tr th {\n",
       "        vertical-align: top;\n",
       "    }\n",
       "\n",
       "    .dataframe thead th {\n",
       "        text-align: right;\n",
       "    }\n",
       "</style>\n",
       "<table border=\"1\" class=\"dataframe\">\n",
       "  <thead>\n",
       "    <tr style=\"text-align: right;\">\n",
       "      <th></th>\n",
       "      <th>data id</th>\n",
       "      <th>sensor_number</th>\n",
       "      <th>type</th>\n",
       "      <th>loc/traj</th>\n",
       "    </tr>\n",
       "  </thead>\n",
       "  <tbody>\n",
       "    <tr>\n",
       "      <th>0</th>\n",
       "      <td>DS</td>\n",
       "      <td>0</td>\n",
       "      <td>stationary (random)</td>\n",
       "      <td>(87,)</td>\n",
       "    </tr>\n",
       "    <tr>\n",
       "      <th>1</th>\n",
       "      <td>DS</td>\n",
       "      <td>1</td>\n",
       "      <td>stationary (random)</td>\n",
       "      <td>(63,)</td>\n",
       "    </tr>\n",
       "    <tr>\n",
       "      <th>2</th>\n",
       "      <td>DS</td>\n",
       "      <td>2</td>\n",
       "      <td>stationary (random)</td>\n",
       "      <td>(21,)</td>\n",
       "    </tr>\n",
       "    <tr>\n",
       "      <th>3</th>\n",
       "      <td>DS</td>\n",
       "      <td>3</td>\n",
       "      <td>stationary</td>\n",
       "      <td>(15,)</td>\n",
       "    </tr>\n",
       "    <tr>\n",
       "      <th>4</th>\n",
       "      <td>DS</td>\n",
       "      <td>4</td>\n",
       "      <td>stationary</td>\n",
       "      <td>(30,)</td>\n",
       "    </tr>\n",
       "    <tr>\n",
       "      <th>5</th>\n",
       "      <td>DS</td>\n",
       "      <td>5</td>\n",
       "      <td>stationary</td>\n",
       "      <td>(45,)</td>\n",
       "    </tr>\n",
       "  </tbody>\n",
       "</table>\n",
       "</div>"
      ],
      "text/plain": [
       "  data id  sensor_number                 type loc/traj\n",
       "0      DS              0  stationary (random)    (87,)\n",
       "1      DS              1  stationary (random)    (63,)\n",
       "2      DS              2  stationary (random)    (21,)\n",
       "3      DS              3           stationary    (15,)\n",
       "4      DS              4           stationary    (30,)\n",
       "5      DS              5           stationary    (45,)"
      ]
     },
     "execution_count": 58,
     "metadata": {},
     "output_type": "execute_result"
    }
   ],
   "source": [
    "manager.sensor_summary_df"
   ]
  },
  {
   "cell_type": "markdown",
   "metadata": {},
   "source": [
    "#### Get train, validation, and test set"
   ]
  },
  {
   "cell_type": "code",
   "execution_count": null,
   "metadata": {},
   "outputs": [],
   "source": [
    "train_dataset, val_dataset, test_dataset= manager.prepare()"
   ]
  },
  {
   "cell_type": "markdown",
   "metadata": {},
   "source": [
    "#### Initialize SHRED\n",
    "\n",
    "When using a `ParametricDataManager`, ensure `latent_forecaster` is set to None."
   ]
  },
  {
   "cell_type": "code",
   "execution_count": 50,
   "metadata": {},
   "outputs": [],
   "source": [
    "shred = SHRED(sequence_model=\"LSTM\", decoder_model=\"MLP\", latent_forecaster=None)"
   ]
  },
  {
   "cell_type": "markdown",
   "metadata": {},
   "source": [
    "#### Fit SHRED"
   ]
  },
  {
   "cell_type": "code",
   "execution_count": null,
   "metadata": {},
   "outputs": [
    {
     "name": "stdout",
     "output_type": "stream",
     "text": [
      "Fitting SHRED...\n",
      "Epoch 1: Average training loss = 0.026830\n",
      "Validation MSE (epoch 1): 0.017097\n",
      "Epoch 2: Average training loss = 0.011875\n",
      "Validation MSE (epoch 2): 0.014346\n",
      "Epoch 3: Average training loss = 0.009531\n",
      "Validation MSE (epoch 3): 0.010721\n",
      "Epoch 4: Average training loss = 0.007884\n",
      "Validation MSE (epoch 4): 0.009414\n",
      "Epoch 5: Average training loss = 0.006994\n",
      "Validation MSE (epoch 5): 0.008351\n",
      "Epoch 6: Average training loss = 0.006297\n",
      "Validation MSE (epoch 6): 0.006967\n",
      "Epoch 7: Average training loss = 0.005512\n",
      "Validation MSE (epoch 7): 0.006366\n",
      "Epoch 8: Average training loss = 0.004923\n",
      "Validation MSE (epoch 8): 0.005887\n",
      "Epoch 9: Average training loss = 0.004537\n",
      "Validation MSE (epoch 9): 0.005361\n",
      "Epoch 10: Average training loss = 0.004175\n",
      "Validation MSE (epoch 10): 0.005111\n",
      "val_errors: [0.01709735 0.01434578 0.0107211  0.00941385 0.00835117 0.00696706\n",
      " 0.00636586 0.00588656 0.0053609  0.00511133]\n"
     ]
    }
   ],
   "source": [
    "val_errors = shred.fit(train_dataset=train_dataset, val_dataset=val_dataset, num_epochs=10, sindy_regularization=0)\n",
    "print('val_errors:', val_errors)"
   ]
  },
  {
   "cell_type": "markdown",
   "metadata": {},
   "source": [
    "#### Evaluate SHRED"
   ]
  },
  {
   "cell_type": "code",
   "execution_count": 52,
   "metadata": {},
   "outputs": [
    {
     "name": "stdout",
     "output_type": "stream",
     "text": [
      "Train MSE: 0.003\n",
      "Val   MSE: 0.005\n",
      "Test  MSE: 0.003\n"
     ]
    }
   ],
   "source": [
    "train_mse = shred.evaluate(dataset=train_dataset)\n",
    "val_mse = shred.evaluate(dataset=val_dataset)\n",
    "test_mse = shred.evaluate(dataset=test_dataset)\n",
    "print(f\"Train MSE: {train_mse:.3f}\")\n",
    "print(f\"Val   MSE: {val_mse:.3f}\")\n",
    "print(f\"Test  MSE: {test_mse:.3f}\")"
   ]
  },
  {
   "cell_type": "markdown",
   "metadata": {},
   "source": [
    "#### Initialize Parametric SHRED Engine for Downstream Tasks (TODO)"
   ]
  },
  {
   "cell_type": "code",
   "execution_count": null,
   "metadata": {},
   "outputs": [],
   "source": [
    "engine = ParametricSHREDEngine(manager, shred)"
   ]
  },
  {
   "cell_type": "markdown",
   "metadata": {},
   "source": []
  }
 ],
 "metadata": {
  "kernelspec": {
   "display_name": "datasci",
   "language": "python",
   "name": "python3"
  },
  "language_info": {
   "codemirror_mode": {
    "name": "ipython",
    "version": 3
   },
   "file_extension": ".py",
   "mimetype": "text/x-python",
   "name": "python",
   "nbconvert_exporter": "python",
   "pygments_lexer": "ipython3",
   "version": "3.10.14"
  }
 },
 "nbformat": 4,
 "nbformat_minor": 2
}
