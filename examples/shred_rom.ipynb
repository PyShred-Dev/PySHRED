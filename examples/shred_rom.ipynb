{
 "cells": [
  {
   "cell_type": "markdown",
   "metadata": {},
   "source": [
    "# ROM-SHRED Tutorial on Kuramoto Sivashinsky"
   ]
  },
  {
   "cell_type": "markdown",
   "metadata": {},
   "source": [
    "#### Import Libraries"
   ]
  },
  {
   "cell_type": "code",
   "execution_count": 71,
   "metadata": {},
   "outputs": [
    {
     "name": "stdout",
     "output_type": "stream",
     "text": [
      "The autoreload extension is already loaded. To reload it, use:\n",
      "  %reload_ext autoreload\n"
     ]
    }
   ],
   "source": [
    "# PYSHRED\n",
    "%load_ext autoreload\n",
    "%autoreload 2\n",
    "from pyshred import ParametricDataManager, SHRED, SHREDEngine\n",
    "\n",
    "# Other helper libraries\n",
    "import matplotlib.pyplot as plt\n",
    "from scipy.io import loadmat\n",
    "import torch\n",
    "import numpy as np"
   ]
  },
  {
   "cell_type": "markdown",
   "metadata": {},
   "source": [
    "#### Load Kuramoto Sivashinsky dataset"
   ]
  },
  {
   "cell_type": "code",
   "execution_count": 72,
   "metadata": {},
   "outputs": [],
   "source": [
    "import numpy as np\n",
    "import urllib.request\n",
    "# URL of the NPZ file\n",
    "url = 'https://zenodo.org/records/14524524/files/KuramotoSivashinsky_data.npz?download=1'\n",
    "# Local filename to save the downloaded file\n",
    "filename = 'KuramotoSivashinsky_data.npz'\n",
    "# Download the file from the URL\n",
    "urllib.request.urlretrieve(url, filename)\n",
    "# Load the data from the NPZ file\n",
    "dataset = np.load(filename)"
   ]
  },
  {
   "cell_type": "markdown",
   "metadata": {},
   "source": [
    "#### Initialize Data Manager"
   ]
  },
  {
   "cell_type": "code",
   "execution_count": 73,
   "metadata": {},
   "outputs": [],
   "source": [
    "# Initialize ParametricSHREDDataManager\n",
    "manager = ParametricDataManager(\n",
    "    lags = 21,\n",
    "    train_size = 0.8,\n",
    "    val_size = 0.1,\n",
    "    test_size = 0.1,\n",
    "    )"
   ]
  },
  {
   "cell_type": "markdown",
   "metadata": {},
   "source": [
    "#### Add datasets and sensors"
   ]
  },
  {
   "cell_type": "code",
   "execution_count": 74,
   "metadata": {},
   "outputs": [],
   "source": [
    "data = dataset['u'] # shape (500, 201, 100)\n",
    "# mu = dataset['mu'] # shape (500, 201, 2)\n",
    "\n",
    "manager.add_data(\n",
    "    data=data,\n",
    "    # random=3,\n",
    "    stationary=[(15,),(30,),(45,)],\n",
    "    # params=mu,\n",
    "    id = 'KS',\n",
    "    compress = False\n",
    ")"
   ]
  },
  {
   "cell_type": "markdown",
   "metadata": {},
   "source": [
    "#### Analyze sensor summary"
   ]
  },
  {
   "cell_type": "code",
   "execution_count": 75,
   "metadata": {},
   "outputs": [
    {
     "data": {
      "text/html": [
       "<div>\n",
       "<style scoped>\n",
       "    .dataframe tbody tr th:only-of-type {\n",
       "        vertical-align: middle;\n",
       "    }\n",
       "\n",
       "    .dataframe tbody tr th {\n",
       "        vertical-align: top;\n",
       "    }\n",
       "\n",
       "    .dataframe thead th {\n",
       "        text-align: right;\n",
       "    }\n",
       "</style>\n",
       "<table border=\"1\" class=\"dataframe\">\n",
       "  <thead>\n",
       "    <tr style=\"text-align: right;\">\n",
       "      <th></th>\n",
       "      <th>KS-0</th>\n",
       "      <th>KS-1</th>\n",
       "      <th>KS-2</th>\n",
       "    </tr>\n",
       "  </thead>\n",
       "  <tbody>\n",
       "    <tr>\n",
       "      <th>0</th>\n",
       "      <td>0.154032</td>\n",
       "      <td>-1.140074</td>\n",
       "      <td>-0.006130</td>\n",
       "    </tr>\n",
       "    <tr>\n",
       "      <th>1</th>\n",
       "      <td>0.332515</td>\n",
       "      <td>-1.079287</td>\n",
       "      <td>-0.023609</td>\n",
       "    </tr>\n",
       "    <tr>\n",
       "      <th>2</th>\n",
       "      <td>0.361393</td>\n",
       "      <td>-1.070717</td>\n",
       "      <td>0.002758</td>\n",
       "    </tr>\n",
       "    <tr>\n",
       "      <th>3</th>\n",
       "      <td>0.404951</td>\n",
       "      <td>-1.049306</td>\n",
       "      <td>0.015024</td>\n",
       "    </tr>\n",
       "    <tr>\n",
       "      <th>4</th>\n",
       "      <td>0.485893</td>\n",
       "      <td>-1.031259</td>\n",
       "      <td>0.017951</td>\n",
       "    </tr>\n",
       "    <tr>\n",
       "      <th>...</th>\n",
       "      <td>...</td>\n",
       "      <td>...</td>\n",
       "      <td>...</td>\n",
       "    </tr>\n",
       "    <tr>\n",
       "      <th>100495</th>\n",
       "      <td>0.261712</td>\n",
       "      <td>-1.793277</td>\n",
       "      <td>-0.135204</td>\n",
       "    </tr>\n",
       "    <tr>\n",
       "      <th>100496</th>\n",
       "      <td>-0.622521</td>\n",
       "      <td>-1.301706</td>\n",
       "      <td>0.021596</td>\n",
       "    </tr>\n",
       "    <tr>\n",
       "      <th>100497</th>\n",
       "      <td>-1.591052</td>\n",
       "      <td>-0.838068</td>\n",
       "      <td>0.158474</td>\n",
       "    </tr>\n",
       "    <tr>\n",
       "      <th>100498</th>\n",
       "      <td>-2.129965</td>\n",
       "      <td>-0.466887</td>\n",
       "      <td>0.281114</td>\n",
       "    </tr>\n",
       "    <tr>\n",
       "      <th>100499</th>\n",
       "      <td>-2.005693</td>\n",
       "      <td>-0.192670</td>\n",
       "      <td>0.383173</td>\n",
       "    </tr>\n",
       "  </tbody>\n",
       "</table>\n",
       "<p>100500 rows × 3 columns</p>\n",
       "</div>"
      ],
      "text/plain": [
       "            KS-0      KS-1      KS-2\n",
       "0       0.154032 -1.140074 -0.006130\n",
       "1       0.332515 -1.079287 -0.023609\n",
       "2       0.361393 -1.070717  0.002758\n",
       "3       0.404951 -1.049306  0.015024\n",
       "4       0.485893 -1.031259  0.017951\n",
       "...          ...       ...       ...\n",
       "100495  0.261712 -1.793277 -0.135204\n",
       "100496 -0.622521 -1.301706  0.021596\n",
       "100497 -1.591052 -0.838068  0.158474\n",
       "100498 -2.129965 -0.466887  0.281114\n",
       "100499 -2.005693 -0.192670  0.383173\n",
       "\n",
       "[100500 rows x 3 columns]"
      ]
     },
     "execution_count": 75,
     "metadata": {},
     "output_type": "execute_result"
    }
   ],
   "source": [
    "manager.sensor_measurements_df"
   ]
  },
  {
   "cell_type": "code",
   "execution_count": 76,
   "metadata": {},
   "outputs": [
    {
     "data": {
      "text/html": [
       "<div>\n",
       "<style scoped>\n",
       "    .dataframe tbody tr th:only-of-type {\n",
       "        vertical-align: middle;\n",
       "    }\n",
       "\n",
       "    .dataframe tbody tr th {\n",
       "        vertical-align: top;\n",
       "    }\n",
       "\n",
       "    .dataframe thead th {\n",
       "        text-align: right;\n",
       "    }\n",
       "</style>\n",
       "<table border=\"1\" class=\"dataframe\">\n",
       "  <thead>\n",
       "    <tr style=\"text-align: right;\">\n",
       "      <th></th>\n",
       "      <th>data id</th>\n",
       "      <th>sensor_number</th>\n",
       "      <th>type</th>\n",
       "      <th>loc/traj</th>\n",
       "    </tr>\n",
       "  </thead>\n",
       "  <tbody>\n",
       "    <tr>\n",
       "      <th>0</th>\n",
       "      <td>KS</td>\n",
       "      <td>0</td>\n",
       "      <td>stationary</td>\n",
       "      <td>(15,)</td>\n",
       "    </tr>\n",
       "    <tr>\n",
       "      <th>1</th>\n",
       "      <td>KS</td>\n",
       "      <td>1</td>\n",
       "      <td>stationary</td>\n",
       "      <td>(30,)</td>\n",
       "    </tr>\n",
       "    <tr>\n",
       "      <th>2</th>\n",
       "      <td>KS</td>\n",
       "      <td>2</td>\n",
       "      <td>stationary</td>\n",
       "      <td>(45,)</td>\n",
       "    </tr>\n",
       "  </tbody>\n",
       "</table>\n",
       "</div>"
      ],
      "text/plain": [
       "  data id  sensor_number        type loc/traj\n",
       "0      KS              0  stationary    (15,)\n",
       "1      KS              1  stationary    (30,)\n",
       "2      KS              2  stationary    (45,)"
      ]
     },
     "execution_count": 76,
     "metadata": {},
     "output_type": "execute_result"
    }
   ],
   "source": [
    "manager.sensor_summary_df"
   ]
  },
  {
   "cell_type": "markdown",
   "metadata": {},
   "source": [
    "#### Get train, validation, and test set"
   ]
  },
  {
   "cell_type": "code",
   "execution_count": 77,
   "metadata": {},
   "outputs": [],
   "source": [
    "train_dataset, val_dataset, test_dataset= manager.prepare()"
   ]
  },
  {
   "cell_type": "markdown",
   "metadata": {},
   "source": [
    "#### Initialize SHRED\n",
    "\n",
    "When using a `ParametricDataManager`, ensure `latent_forecaster` is set to None."
   ]
  },
  {
   "cell_type": "code",
   "execution_count": 78,
   "metadata": {},
   "outputs": [],
   "source": [
    "shred = SHRED(sequence_model=\"LSTM\", decoder_model=\"MLP\", latent_forecaster=None)"
   ]
  },
  {
   "cell_type": "markdown",
   "metadata": {},
   "source": [
    "#### Fit SHRED"
   ]
  },
  {
   "cell_type": "code",
   "execution_count": 79,
   "metadata": {},
   "outputs": [
    {
     "name": "stdout",
     "output_type": "stream",
     "text": [
      "Fitting SHRED...\n",
      "Epoch 1: Average training loss = 0.024901\n",
      "Validation MSE (epoch 1): 0.017020\n",
      "Epoch 2: Average training loss = 0.011834\n",
      "Validation MSE (epoch 2): 0.014274\n",
      "Epoch 3: Average training loss = 0.009696\n",
      "Validation MSE (epoch 3): 0.011126\n",
      "Epoch 4: Average training loss = 0.008063\n",
      "Validation MSE (epoch 4): 0.009599\n",
      "Epoch 5: Average training loss = 0.007162\n",
      "Validation MSE (epoch 5): 0.008390\n",
      "Epoch 6: Average training loss = 0.006406\n",
      "Validation MSE (epoch 6): 0.007549\n",
      "Epoch 7: Average training loss = 0.005697\n",
      "Validation MSE (epoch 7): 0.006496\n",
      "Epoch 8: Average training loss = 0.005112\n",
      "Validation MSE (epoch 8): 0.005727\n",
      "Epoch 9: Average training loss = 0.004693\n",
      "Validation MSE (epoch 9): 0.005416\n",
      "Epoch 10: Average training loss = 0.004274\n",
      "Validation MSE (epoch 10): 0.005388\n",
      "val_errors: [0.01701978 0.01427372 0.01112562 0.00959897 0.00838996 0.00754887\n",
      " 0.00649557 0.00572666 0.00541566 0.00538755]\n"
     ]
    }
   ],
   "source": [
    "val_errors = shred.fit(train_dataset=train_dataset, val_dataset=val_dataset, num_epochs=10, sindy_regularization=0)\n",
    "print('val_errors:', val_errors)"
   ]
  },
  {
   "cell_type": "markdown",
   "metadata": {},
   "source": [
    "#### Evaluate SHRED"
   ]
  },
  {
   "cell_type": "code",
   "execution_count": 80,
   "metadata": {},
   "outputs": [
    {
     "name": "stdout",
     "output_type": "stream",
     "text": [
      "Train MSE: 0.004\n",
      "Val   MSE: 0.005\n",
      "Test  MSE: 0.003\n"
     ]
    }
   ],
   "source": [
    "train_mse = shred.evaluate(dataset=train_dataset)\n",
    "val_mse = shred.evaluate(dataset=val_dataset)\n",
    "test_mse = shred.evaluate(dataset=test_dataset)\n",
    "print(f\"Train MSE: {train_mse:.3f}\")\n",
    "print(f\"Val   MSE: {val_mse:.3f}\")\n",
    "print(f\"Test  MSE: {test_mse:.3f}\")"
   ]
  },
  {
   "cell_type": "markdown",
   "metadata": {},
   "source": [
    "#### Initialize Parametric SHRED Engine for Downstream Tasks (TODO)"
   ]
  },
  {
   "cell_type": "code",
   "execution_count": 82,
   "metadata": {},
   "outputs": [],
   "source": [
    "# engine = ParametricSHREDEngine(manager, shred)"
   ]
  },
  {
   "cell_type": "markdown",
   "metadata": {},
   "source": [
    "#### Sensor Measurements to Latent Space"
   ]
  },
  {
   "cell_type": "code",
   "execution_count": null,
   "metadata": {},
   "outputs": [],
   "source": []
  },
  {
   "cell_type": "markdown",
   "metadata": {},
   "source": [
    "#### Decode Latent Space to Full-State Space"
   ]
  },
  {
   "cell_type": "code",
   "execution_count": null,
   "metadata": {},
   "outputs": [],
   "source": []
  }
 ],
 "metadata": {
  "kernelspec": {
   "display_name": "datasci",
   "language": "python",
   "name": "python3"
  },
  "language_info": {
   "codemirror_mode": {
    "name": "ipython",
    "version": 3
   },
   "file_extension": ".py",
   "mimetype": "text/x-python",
   "name": "python",
   "nbconvert_exporter": "python",
   "pygments_lexer": "ipython3",
   "version": "3.10.14"
  }
 },
 "nbformat": 4,
 "nbformat_minor": 2
}
