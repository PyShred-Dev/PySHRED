{
 "cells": [
  {
   "cell_type": "code",
   "execution_count": 52,
   "id": "8b6d5b71",
   "metadata": {},
   "outputs": [
    {
     "name": "stdout",
     "output_type": "stream",
     "text": [
      "The autoreload extension is already loaded. To reload it, use:\n",
      "  %reload_ext autoreload\n"
     ]
    }
   ],
   "source": [
    "%load_ext autoreload\n",
    "%autoreload 2\n",
    "\n",
    "from pyshred.processor.data_manager import DataManager\n",
    "from pyshred.models.sindy_dynamics import SINDyDynamics\n",
    "from pyshred.models.shred import SHRED"
   ]
  },
  {
   "cell_type": "code",
   "execution_count": 102,
   "id": "92a1dee8",
   "metadata": {},
   "outputs": [
    {
     "data": {
      "text/plain": [
       "(1400, 64800)"
      ]
     },
     "execution_count": 102,
     "metadata": {},
     "output_type": "execute_result"
    }
   ],
   "source": [
    "from scipy.io import loadmat\n",
    "import numpy as np\n",
    "\n",
    "mat = loadmat(\"SST_data.mat\")          # load MATLAB file\n",
    "arr = mat['Z'].T                   # extract the variable you want\n",
    "# arr = arr.reshape(1400, 180, 360)\n",
    "\n",
    "# import numpy as np\n",
    "# import matplotlib.pyplot as plt\n",
    "\n",
    "# timestep0 = arr[200]\n",
    "\n",
    "# # Plotting\n",
    "# plt.figure()\n",
    "# plt.imshow(timestep0)\n",
    "# plt.colorbar(label=\"Value\")\n",
    "# plt.show()\n",
    "arr.shape\n"
   ]
  },
  {
   "cell_type": "code",
   "execution_count": 114,
   "id": "3b82bae3",
   "metadata": {},
   "outputs": [],
   "source": [
    "manager = DataManager(\n",
    "    lags = 52,\n",
    "    train_size = 0.8,\n",
    "    val_size = 0.1,\n",
    "    test_size = 0.1,\n",
    "    holdout_size = 0.1\n",
    ")"
   ]
  },
  {
   "cell_type": "code",
   "execution_count": 115,
   "id": "6977cb44",
   "metadata": {},
   "outputs": [],
   "source": [
    "manager.add_data(\n",
    "    data = arr,\n",
    "    id = \"SST\",\n",
    "    random = 250,\n",
    "    # stationary = [(46, 227),(120, 60),(134, 303)],\n",
    "    # measurements=measurements,\n",
    "    compress=False,\n",
    "    scale=True\n",
    ")"
   ]
  },
  {
   "cell_type": "code",
   "execution_count": 116,
   "id": "6911345f",
   "metadata": {},
   "outputs": [],
   "source": [
    "datasets = manager.prepare()"
   ]
  },
  {
   "cell_type": "code",
   "execution_count": 117,
   "id": "f692d44d",
   "metadata": {},
   "outputs": [
    {
     "data": {
      "text/html": [
       "<div>\n",
       "<style scoped>\n",
       "    .dataframe tbody tr th:only-of-type {\n",
       "        vertical-align: middle;\n",
       "    }\n",
       "\n",
       "    .dataframe tbody tr th {\n",
       "        vertical-align: top;\n",
       "    }\n",
       "\n",
       "    .dataframe thead th {\n",
       "        text-align: right;\n",
       "    }\n",
       "</style>\n",
       "<table border=\"1\" class=\"dataframe\">\n",
       "  <thead>\n",
       "    <tr style=\"text-align: right;\">\n",
       "      <th></th>\n",
       "      <th>data id</th>\n",
       "      <th>number</th>\n",
       "      <th>type</th>\n",
       "      <th>loc/traj</th>\n",
       "    </tr>\n",
       "  </thead>\n",
       "  <tbody>\n",
       "    <tr>\n",
       "      <th>0</th>\n",
       "      <td>SST</td>\n",
       "      <td>0</td>\n",
       "      <td>stationary (random)</td>\n",
       "      <td>(17929,)</td>\n",
       "    </tr>\n",
       "    <tr>\n",
       "      <th>1</th>\n",
       "      <td>SST</td>\n",
       "      <td>1</td>\n",
       "      <td>stationary (random)</td>\n",
       "      <td>(13589,)</td>\n",
       "    </tr>\n",
       "    <tr>\n",
       "      <th>2</th>\n",
       "      <td>SST</td>\n",
       "      <td>2</td>\n",
       "      <td>stationary (random)</td>\n",
       "      <td>(62363,)</td>\n",
       "    </tr>\n",
       "    <tr>\n",
       "      <th>3</th>\n",
       "      <td>SST</td>\n",
       "      <td>3</td>\n",
       "      <td>stationary (random)</td>\n",
       "      <td>(49124,)</td>\n",
       "    </tr>\n",
       "    <tr>\n",
       "      <th>4</th>\n",
       "      <td>SST</td>\n",
       "      <td>4</td>\n",
       "      <td>stationary (random)</td>\n",
       "      <td>(47141,)</td>\n",
       "    </tr>\n",
       "    <tr>\n",
       "      <th>...</th>\n",
       "      <td>...</td>\n",
       "      <td>...</td>\n",
       "      <td>...</td>\n",
       "      <td>...</td>\n",
       "    </tr>\n",
       "    <tr>\n",
       "      <th>245</th>\n",
       "      <td>SST</td>\n",
       "      <td>245</td>\n",
       "      <td>stationary (random)</td>\n",
       "      <td>(51030,)</td>\n",
       "    </tr>\n",
       "    <tr>\n",
       "      <th>246</th>\n",
       "      <td>SST</td>\n",
       "      <td>246</td>\n",
       "      <td>stationary (random)</td>\n",
       "      <td>(35712,)</td>\n",
       "    </tr>\n",
       "    <tr>\n",
       "      <th>247</th>\n",
       "      <td>SST</td>\n",
       "      <td>247</td>\n",
       "      <td>stationary (random)</td>\n",
       "      <td>(46755,)</td>\n",
       "    </tr>\n",
       "    <tr>\n",
       "      <th>248</th>\n",
       "      <td>SST</td>\n",
       "      <td>248</td>\n",
       "      <td>stationary (random)</td>\n",
       "      <td>(53759,)</td>\n",
       "    </tr>\n",
       "    <tr>\n",
       "      <th>249</th>\n",
       "      <td>SST</td>\n",
       "      <td>249</td>\n",
       "      <td>stationary (random)</td>\n",
       "      <td>(2122,)</td>\n",
       "    </tr>\n",
       "  </tbody>\n",
       "</table>\n",
       "<p>250 rows × 4 columns</p>\n",
       "</div>"
      ],
      "text/plain": [
       "    data id  number                 type  loc/traj\n",
       "0       SST       0  stationary (random)  (17929,)\n",
       "1       SST       1  stationary (random)  (13589,)\n",
       "2       SST       2  stationary (random)  (62363,)\n",
       "3       SST       3  stationary (random)  (49124,)\n",
       "4       SST       4  stationary (random)  (47141,)\n",
       "..      ...     ...                  ...       ...\n",
       "245     SST     245  stationary (random)  (51030,)\n",
       "246     SST     246  stationary (random)  (35712,)\n",
       "247     SST     247  stationary (random)  (46755,)\n",
       "248     SST     248  stationary (random)  (53759,)\n",
       "249     SST     249  stationary (random)   (2122,)\n",
       "\n",
       "[250 rows x 4 columns]"
      ]
     },
     "execution_count": 117,
     "metadata": {},
     "output_type": "execute_result"
    }
   ],
   "source": [
    "manager.sensor_summary_df"
   ]
  },
  {
   "cell_type": "code",
   "execution_count": 118,
   "id": "388e0e8b",
   "metadata": {},
   "outputs": [
    {
     "data": {
      "text/html": [
       "<div>\n",
       "<style scoped>\n",
       "    .dataframe tbody tr th:only-of-type {\n",
       "        vertical-align: middle;\n",
       "    }\n",
       "\n",
       "    .dataframe tbody tr th {\n",
       "        vertical-align: top;\n",
       "    }\n",
       "\n",
       "    .dataframe thead th {\n",
       "        text-align: right;\n",
       "    }\n",
       "</style>\n",
       "<table border=\"1\" class=\"dataframe\">\n",
       "  <thead>\n",
       "    <tr style=\"text-align: right;\">\n",
       "      <th>data id</th>\n",
       "      <th>SST-0</th>\n",
       "      <th>SST-1</th>\n",
       "      <th>SST-2</th>\n",
       "      <th>SST-3</th>\n",
       "      <th>SST-4</th>\n",
       "      <th>SST-5</th>\n",
       "      <th>SST-6</th>\n",
       "      <th>SST-7</th>\n",
       "      <th>SST-8</th>\n",
       "      <th>SST-9</th>\n",
       "      <th>...</th>\n",
       "      <th>SST-240</th>\n",
       "      <th>SST-241</th>\n",
       "      <th>SST-242</th>\n",
       "      <th>SST-243</th>\n",
       "      <th>SST-244</th>\n",
       "      <th>SST-245</th>\n",
       "      <th>SST-246</th>\n",
       "      <th>SST-247</th>\n",
       "      <th>SST-248</th>\n",
       "      <th>SST-249</th>\n",
       "    </tr>\n",
       "  </thead>\n",
       "  <tbody>\n",
       "    <tr>\n",
       "      <th>0</th>\n",
       "      <td>6.67</td>\n",
       "      <td>0.0</td>\n",
       "      <td>-0.0</td>\n",
       "      <td>12.95</td>\n",
       "      <td>14.37</td>\n",
       "      <td>28.839999</td>\n",
       "      <td>-0.0</td>\n",
       "      <td>4.62</td>\n",
       "      <td>-0.0</td>\n",
       "      <td>19.750000</td>\n",
       "      <td>...</td>\n",
       "      <td>0.0</td>\n",
       "      <td>25.389999</td>\n",
       "      <td>18.51</td>\n",
       "      <td>23.279999</td>\n",
       "      <td>27.959999</td>\n",
       "      <td>8.50</td>\n",
       "      <td>28.599999</td>\n",
       "      <td>19.14</td>\n",
       "      <td>4.09</td>\n",
       "      <td>-1.80</td>\n",
       "    </tr>\n",
       "    <tr>\n",
       "      <th>1</th>\n",
       "      <td>5.92</td>\n",
       "      <td>0.0</td>\n",
       "      <td>-0.0</td>\n",
       "      <td>13.66</td>\n",
       "      <td>14.47</td>\n",
       "      <td>28.969999</td>\n",
       "      <td>-0.0</td>\n",
       "      <td>3.93</td>\n",
       "      <td>-0.0</td>\n",
       "      <td>19.670000</td>\n",
       "      <td>...</td>\n",
       "      <td>0.0</td>\n",
       "      <td>25.379999</td>\n",
       "      <td>18.40</td>\n",
       "      <td>23.469999</td>\n",
       "      <td>27.609999</td>\n",
       "      <td>8.33</td>\n",
       "      <td>28.769999</td>\n",
       "      <td>19.35</td>\n",
       "      <td>3.82</td>\n",
       "      <td>-1.79</td>\n",
       "    </tr>\n",
       "    <tr>\n",
       "      <th>2</th>\n",
       "      <td>6.14</td>\n",
       "      <td>0.0</td>\n",
       "      <td>-0.0</td>\n",
       "      <td>13.32</td>\n",
       "      <td>14.88</td>\n",
       "      <td>28.759999</td>\n",
       "      <td>-0.0</td>\n",
       "      <td>3.66</td>\n",
       "      <td>-0.0</td>\n",
       "      <td>19.600000</td>\n",
       "      <td>...</td>\n",
       "      <td>0.0</td>\n",
       "      <td>25.149999</td>\n",
       "      <td>18.01</td>\n",
       "      <td>24.119999</td>\n",
       "      <td>27.359999</td>\n",
       "      <td>8.42</td>\n",
       "      <td>29.009999</td>\n",
       "      <td>19.82</td>\n",
       "      <td>4.06</td>\n",
       "      <td>-1.80</td>\n",
       "    </tr>\n",
       "    <tr>\n",
       "      <th>3</th>\n",
       "      <td>5.92</td>\n",
       "      <td>0.0</td>\n",
       "      <td>-0.0</td>\n",
       "      <td>13.54</td>\n",
       "      <td>15.29</td>\n",
       "      <td>28.519999</td>\n",
       "      <td>-0.0</td>\n",
       "      <td>3.91</td>\n",
       "      <td>-0.0</td>\n",
       "      <td>19.710000</td>\n",
       "      <td>...</td>\n",
       "      <td>0.0</td>\n",
       "      <td>25.559999</td>\n",
       "      <td>17.84</td>\n",
       "      <td>23.939999</td>\n",
       "      <td>26.879999</td>\n",
       "      <td>8.89</td>\n",
       "      <td>29.189999</td>\n",
       "      <td>19.42</td>\n",
       "      <td>4.29</td>\n",
       "      <td>-1.74</td>\n",
       "    </tr>\n",
       "    <tr>\n",
       "      <th>4</th>\n",
       "      <td>5.97</td>\n",
       "      <td>0.0</td>\n",
       "      <td>-0.0</td>\n",
       "      <td>14.41</td>\n",
       "      <td>14.98</td>\n",
       "      <td>28.819999</td>\n",
       "      <td>-0.0</td>\n",
       "      <td>4.33</td>\n",
       "      <td>-0.0</td>\n",
       "      <td>19.630000</td>\n",
       "      <td>...</td>\n",
       "      <td>0.0</td>\n",
       "      <td>25.849999</td>\n",
       "      <td>17.60</td>\n",
       "      <td>24.139999</td>\n",
       "      <td>26.919999</td>\n",
       "      <td>8.83</td>\n",
       "      <td>29.029999</td>\n",
       "      <td>20.38</td>\n",
       "      <td>4.09</td>\n",
       "      <td>-1.74</td>\n",
       "    </tr>\n",
       "    <tr>\n",
       "      <th>...</th>\n",
       "      <td>...</td>\n",
       "      <td>...</td>\n",
       "      <td>...</td>\n",
       "      <td>...</td>\n",
       "      <td>...</td>\n",
       "      <td>...</td>\n",
       "      <td>...</td>\n",
       "      <td>...</td>\n",
       "      <td>...</td>\n",
       "      <td>...</td>\n",
       "      <td>...</td>\n",
       "      <td>...</td>\n",
       "      <td>...</td>\n",
       "      <td>...</td>\n",
       "      <td>...</td>\n",
       "      <td>...</td>\n",
       "      <td>...</td>\n",
       "      <td>...</td>\n",
       "      <td>...</td>\n",
       "      <td>...</td>\n",
       "      <td>...</td>\n",
       "    </tr>\n",
       "    <tr>\n",
       "      <th>1395</th>\n",
       "      <td>20.37</td>\n",
       "      <td>0.0</td>\n",
       "      <td>-0.0</td>\n",
       "      <td>11.73</td>\n",
       "      <td>11.74</td>\n",
       "      <td>28.719999</td>\n",
       "      <td>0.0</td>\n",
       "      <td>8.55</td>\n",
       "      <td>-0.0</td>\n",
       "      <td>26.939999</td>\n",
       "      <td>...</td>\n",
       "      <td>0.0</td>\n",
       "      <td>24.789999</td>\n",
       "      <td>20.71</td>\n",
       "      <td>21.070000</td>\n",
       "      <td>29.769999</td>\n",
       "      <td>6.68</td>\n",
       "      <td>26.939999</td>\n",
       "      <td>12.99</td>\n",
       "      <td>-0.79</td>\n",
       "      <td>-1.13</td>\n",
       "    </tr>\n",
       "    <tr>\n",
       "      <th>1396</th>\n",
       "      <td>19.77</td>\n",
       "      <td>0.0</td>\n",
       "      <td>-0.0</td>\n",
       "      <td>12.11</td>\n",
       "      <td>11.89</td>\n",
       "      <td>28.639999</td>\n",
       "      <td>0.0</td>\n",
       "      <td>7.88</td>\n",
       "      <td>-0.0</td>\n",
       "      <td>26.729999</td>\n",
       "      <td>...</td>\n",
       "      <td>0.0</td>\n",
       "      <td>23.909999</td>\n",
       "      <td>20.81</td>\n",
       "      <td>21.260000</td>\n",
       "      <td>29.749999</td>\n",
       "      <td>6.66</td>\n",
       "      <td>26.589999</td>\n",
       "      <td>13.90</td>\n",
       "      <td>-0.29</td>\n",
       "      <td>-1.14</td>\n",
       "    </tr>\n",
       "    <tr>\n",
       "      <th>1397</th>\n",
       "      <td>18.71</td>\n",
       "      <td>0.0</td>\n",
       "      <td>-0.0</td>\n",
       "      <td>11.91</td>\n",
       "      <td>11.91</td>\n",
       "      <td>28.429999</td>\n",
       "      <td>0.0</td>\n",
       "      <td>7.16</td>\n",
       "      <td>-0.0</td>\n",
       "      <td>25.869999</td>\n",
       "      <td>...</td>\n",
       "      <td>0.0</td>\n",
       "      <td>23.949999</td>\n",
       "      <td>21.09</td>\n",
       "      <td>21.130000</td>\n",
       "      <td>29.559999</td>\n",
       "      <td>6.53</td>\n",
       "      <td>26.629999</td>\n",
       "      <td>14.50</td>\n",
       "      <td>-0.24</td>\n",
       "      <td>-1.20</td>\n",
       "    </tr>\n",
       "    <tr>\n",
       "      <th>1398</th>\n",
       "      <td>18.94</td>\n",
       "      <td>0.0</td>\n",
       "      <td>-0.0</td>\n",
       "      <td>11.95</td>\n",
       "      <td>11.54</td>\n",
       "      <td>28.489999</td>\n",
       "      <td>0.0</td>\n",
       "      <td>7.12</td>\n",
       "      <td>-0.0</td>\n",
       "      <td>24.629999</td>\n",
       "      <td>...</td>\n",
       "      <td>0.0</td>\n",
       "      <td>24.219999</td>\n",
       "      <td>20.99</td>\n",
       "      <td>21.440000</td>\n",
       "      <td>29.249999</td>\n",
       "      <td>6.72</td>\n",
       "      <td>26.469999</td>\n",
       "      <td>14.57</td>\n",
       "      <td>-0.35</td>\n",
       "      <td>-1.23</td>\n",
       "    </tr>\n",
       "    <tr>\n",
       "      <th>1399</th>\n",
       "      <td>16.91</td>\n",
       "      <td>0.0</td>\n",
       "      <td>-0.0</td>\n",
       "      <td>12.31</td>\n",
       "      <td>11.45</td>\n",
       "      <td>28.629999</td>\n",
       "      <td>0.0</td>\n",
       "      <td>6.59</td>\n",
       "      <td>-0.0</td>\n",
       "      <td>24.339999</td>\n",
       "      <td>...</td>\n",
       "      <td>0.0</td>\n",
       "      <td>25.529999</td>\n",
       "      <td>20.79</td>\n",
       "      <td>21.360000</td>\n",
       "      <td>29.299999</td>\n",
       "      <td>6.89</td>\n",
       "      <td>27.149999</td>\n",
       "      <td>14.95</td>\n",
       "      <td>-0.32</td>\n",
       "      <td>-1.24</td>\n",
       "    </tr>\n",
       "  </tbody>\n",
       "</table>\n",
       "<p>1400 rows × 250 columns</p>\n",
       "</div>"
      ],
      "text/plain": [
       "data id  SST-0  SST-1  SST-2  SST-3  SST-4      SST-5  SST-6  SST-7  SST-8  \\\n",
       "0         6.67    0.0   -0.0  12.95  14.37  28.839999   -0.0   4.62   -0.0   \n",
       "1         5.92    0.0   -0.0  13.66  14.47  28.969999   -0.0   3.93   -0.0   \n",
       "2         6.14    0.0   -0.0  13.32  14.88  28.759999   -0.0   3.66   -0.0   \n",
       "3         5.92    0.0   -0.0  13.54  15.29  28.519999   -0.0   3.91   -0.0   \n",
       "4         5.97    0.0   -0.0  14.41  14.98  28.819999   -0.0   4.33   -0.0   \n",
       "...        ...    ...    ...    ...    ...        ...    ...    ...    ...   \n",
       "1395     20.37    0.0   -0.0  11.73  11.74  28.719999    0.0   8.55   -0.0   \n",
       "1396     19.77    0.0   -0.0  12.11  11.89  28.639999    0.0   7.88   -0.0   \n",
       "1397     18.71    0.0   -0.0  11.91  11.91  28.429999    0.0   7.16   -0.0   \n",
       "1398     18.94    0.0   -0.0  11.95  11.54  28.489999    0.0   7.12   -0.0   \n",
       "1399     16.91    0.0   -0.0  12.31  11.45  28.629999    0.0   6.59   -0.0   \n",
       "\n",
       "data id      SST-9  ...  SST-240    SST-241  SST-242    SST-243    SST-244  \\\n",
       "0        19.750000  ...      0.0  25.389999    18.51  23.279999  27.959999   \n",
       "1        19.670000  ...      0.0  25.379999    18.40  23.469999  27.609999   \n",
       "2        19.600000  ...      0.0  25.149999    18.01  24.119999  27.359999   \n",
       "3        19.710000  ...      0.0  25.559999    17.84  23.939999  26.879999   \n",
       "4        19.630000  ...      0.0  25.849999    17.60  24.139999  26.919999   \n",
       "...            ...  ...      ...        ...      ...        ...        ...   \n",
       "1395     26.939999  ...      0.0  24.789999    20.71  21.070000  29.769999   \n",
       "1396     26.729999  ...      0.0  23.909999    20.81  21.260000  29.749999   \n",
       "1397     25.869999  ...      0.0  23.949999    21.09  21.130000  29.559999   \n",
       "1398     24.629999  ...      0.0  24.219999    20.99  21.440000  29.249999   \n",
       "1399     24.339999  ...      0.0  25.529999    20.79  21.360000  29.299999   \n",
       "\n",
       "data id  SST-245    SST-246  SST-247  SST-248  SST-249  \n",
       "0           8.50  28.599999    19.14     4.09    -1.80  \n",
       "1           8.33  28.769999    19.35     3.82    -1.79  \n",
       "2           8.42  29.009999    19.82     4.06    -1.80  \n",
       "3           8.89  29.189999    19.42     4.29    -1.74  \n",
       "4           8.83  29.029999    20.38     4.09    -1.74  \n",
       "...          ...        ...      ...      ...      ...  \n",
       "1395        6.68  26.939999    12.99    -0.79    -1.13  \n",
       "1396        6.66  26.589999    13.90    -0.29    -1.14  \n",
       "1397        6.53  26.629999    14.50    -0.24    -1.20  \n",
       "1398        6.72  26.469999    14.57    -0.35    -1.23  \n",
       "1399        6.89  27.149999    14.95    -0.32    -1.24  \n",
       "\n",
       "[1400 rows x 250 columns]"
      ]
     },
     "execution_count": 118,
     "metadata": {},
     "output_type": "execute_result"
    }
   ],
   "source": [
    "manager.sensor_measurements_df"
   ]
  },
  {
   "cell_type": "code",
   "execution_count": 119,
   "id": "911b29be",
   "metadata": {},
   "outputs": [],
   "source": [
    "from pyshred.models import sindy_shred\n",
    "from pyshred.models import sindy\n",
    "import torch\n",
    "\n",
    "latent_dim = 3\n",
    "poly_order = 1\n",
    "include_sine = False\n",
    "library_dim = sindy.library_size(latent_dim, poly_order, include_sine, True)"
   ]
  },
  {
   "cell_type": "code",
   "execution_count": 120,
   "id": "2526a0de",
   "metadata": {},
   "outputs": [
    {
     "name": "stdout",
     "output_type": "stream",
     "text": [
      "1 : tensor(0.1702, grad_fn=<AddBackward0>)\n",
      "2 : tensor(0.0997, grad_fn=<AddBackward0>)\n",
      "3 : tensor(0.0794, grad_fn=<AddBackward0>)\n",
      "4 : tensor(0.0745, grad_fn=<AddBackward0>)\n",
      "5 : tensor(0.0723, grad_fn=<AddBackward0>)\n",
      "6 : tensor(0.0704, grad_fn=<AddBackward0>)\n",
      "7 : tensor(0.0693, grad_fn=<AddBackward0>)\n",
      "8 : tensor(0.0681, grad_fn=<AddBackward0>)\n",
      "9 : tensor(0.0674, grad_fn=<AddBackward0>)\n",
      "10 : tensor(0.0666, grad_fn=<AddBackward0>)\n",
      "11 : tensor(0.0658, grad_fn=<AddBackward0>)\n",
      "12 : tensor(0.0651, grad_fn=<AddBackward0>)\n",
      "13 : tensor(0.0644, grad_fn=<AddBackward0>)\n",
      "14 : tensor(0.0637, grad_fn=<AddBackward0>)\n",
      "15 : tensor(0.0633, grad_fn=<AddBackward0>)\n",
      "16 : tensor(0.0624, grad_fn=<AddBackward0>)\n",
      "17 : tensor(0.0619, grad_fn=<AddBackward0>)\n",
      "18 : tensor(0.0614, grad_fn=<AddBackward0>)\n",
      "19 : tensor(0.0607, grad_fn=<AddBackward0>)\n",
      "20 : tensor(0.0599, grad_fn=<AddBackward0>)\n",
      "21 : tensor(0.0594, grad_fn=<AddBackward0>)\n",
      "22 : tensor(0.0588, grad_fn=<AddBackward0>)\n",
      "23 : tensor(0.0581, grad_fn=<AddBackward0>)\n",
      "24 : tensor(0.0571, grad_fn=<AddBackward0>)\n",
      "25 : tensor(0.0565, grad_fn=<AddBackward0>)\n",
      "26 : tensor(0.0552, grad_fn=<AddBackward0>)\n",
      "27 : tensor(0.0543, grad_fn=<AddBackward0>)\n",
      "28 : tensor(0.0528, grad_fn=<AddBackward0>)\n",
      "29 : tensor(0.0516, grad_fn=<AddBackward0>)\n",
      "30 : tensor(0.0500, grad_fn=<AddBackward0>)\n",
      "31 : tensor(0.0483, grad_fn=<AddBackward0>)\n",
      "32 : tensor(0.0465, grad_fn=<AddBackward0>)\n",
      "33 : tensor(0.0448, grad_fn=<AddBackward0>)\n",
      "34 : tensor(0.0426, grad_fn=<AddBackward0>)\n",
      "35 : tensor(0.0408, grad_fn=<AddBackward0>)\n",
      "36 : tensor(0.0384, grad_fn=<AddBackward0>)\n",
      "37 : tensor(0.0365, grad_fn=<AddBackward0>)\n",
      "38 : tensor(0.0344, grad_fn=<AddBackward0>)\n",
      "39 : tensor(0.0343, grad_fn=<AddBackward0>)\n",
      "40 : tensor(0.0345, grad_fn=<AddBackward0>)\n",
      "41 : tensor(0.0339, grad_fn=<AddBackward0>)\n",
      "42 : tensor(0.0337, grad_fn=<AddBackward0>)\n",
      "43 : tensor(0.0337, grad_fn=<AddBackward0>)\n",
      "44 : tensor(0.0338, grad_fn=<AddBackward0>)\n",
      "45 : tensor(0.0336, grad_fn=<AddBackward0>)\n",
      "46 : tensor(0.0336, grad_fn=<AddBackward0>)\n",
      "47 : tensor(0.0336, grad_fn=<AddBackward0>)\n",
      "48 : tensor(0.0336, grad_fn=<AddBackward0>)\n",
      "49 : tensor(0.0333, grad_fn=<AddBackward0>)\n",
      "50 : tensor(0.0332, grad_fn=<AddBackward0>)\n"
     ]
    }
   ],
   "source": [
    "device = 'cuda' if torch.cuda.is_available() else 'cpu'\n",
    "\n",
    "shred = sindy_shred.SINDy_SHRED(250, arr.shape[1], hidden_size=latent_dim, hidden_layers=2, l1=350, l2=400, dropout=0.1,\n",
    "                                 library_dim=library_dim, poly_order=poly_order,\n",
    "                                include_sine=include_sine, dt=1/52.0*0.1, layer_norm=False).to(device)\n",
    "\n",
    "validation_errors = sindy_shred.fit(shred, datasets[0], datasets[1], batch_size=128, num_epochs=50,\n",
    "                                    lr=1e-3, verbose=True, threshold=0.25, patience=5, sindy_regularization=10.0,\n",
    "                                    optimizer=\"AdamW\", thres_epoch=100)"
   ]
  },
  {
   "cell_type": "code",
   "execution_count": 121,
   "id": "d9644963",
   "metadata": {},
   "outputs": [
    {
     "data": {
      "text/plain": [
       "tensor(1.)"
      ]
     },
     "execution_count": 121,
     "metadata": {},
     "output_type": "execute_result"
    }
   ],
   "source": [
    "# Rate of sparsity\n",
    "torch.mean(shred.e_sindy.coefficient_mask*1.0)"
   ]
  },
  {
   "cell_type": "code",
   "execution_count": 122,
   "id": "7ecd8744",
   "metadata": {},
   "outputs": [
    {
     "name": "stdout",
     "output_type": "stream",
     "text": [
      "0.4851561\n"
     ]
    }
   ],
   "source": [
    "test_recons = (shred(datasets[2].X).detach().cpu().numpy())\n",
    "test_ground_truth = (datasets[2].Y.detach().cpu().numpy())\n",
    "print(np.linalg.norm(test_recons - test_ground_truth) / np.linalg.norm(test_ground_truth))"
   ]
  },
  {
   "cell_type": "code",
   "execution_count": 123,
   "id": "9e45a0de",
   "metadata": {},
   "outputs": [
    {
     "data": {
      "image/png": "[encoded data removed]",
      "text/plain": [
       "<Figure size 640x480 with 3 Axes>"
      ]
     },
     "metadata": {},
     "output_type": "display_data"
    }
   ],
   "source": [
    "\n",
    "import matplotlib.pyplot as plt\n",
    "import pysindy as ps\n",
    "from pysindy.differentiation import FiniteDifference\n",
    "gru_outs, sindy_outs = shred.gru_outputs(datasets[2].X, sindy=True)\n",
    "differentiation_method = FiniteDifference()\n",
    "\n",
    "fig, ax = plt.subplots(latent_dim)\n",
    "for i in range(latent_dim):\n",
    "    ax[i].plot(gru_outs[1:,0,i].detach().cpu().numpy())"
   ]
  },
  {
   "cell_type": "code",
   "execution_count": 124,
   "id": "a460c270",
   "metadata": {},
   "outputs": [
    {
     "name": "stdout",
     "output_type": "stream",
     "text": [
      "(x0)' = -1.192 1 + 0.665 x0 + 2.210 x1 + 0.509 x2\n",
      "(x1)' = 0.063 1 + -0.686 x0 + -1.250 x1 + -0.750 x2\n",
      "(x2)' = -0.443 1 + 0.592 x0 + 1.421 x1 + 0.590 x2\n"
     ]
    },
    {
     "data": {
      "image/png": "[encoded data removed]",
      "text/plain": [
       "<Figure size 640x480 with 3 Axes>"
      ]
     },
     "metadata": {},
     "output_type": "display_data"
    }
   ],
   "source": [
    "gru_outs, sindy_outs = shred.gru_outputs(datasets[0].X, sindy=True)\n",
    "gru_outs = gru_outs[:,0,:]\n",
    "\n",
    "poly_order = 1\n",
    "threshold = 0.05\n",
    "\n",
    "###############Normalization###############\n",
    "\n",
    "gru_outs[:,0] = (gru_outs[:,0] - torch.min(gru_outs[:,0])) / (torch.max(gru_outs[:,0])-torch.min(gru_outs[:,0]))\n",
    "gru_outs[:,1] = (gru_outs[:,1] - torch.min(gru_outs[:,1])) / (torch.max(gru_outs[:,1])-torch.min(gru_outs[:,1]))\n",
    "gru_outs[:,2] = (gru_outs[:,2] - torch.min(gru_outs[:,2])) / (torch.max(gru_outs[:,2])-torch.min(gru_outs[:,2]))\n",
    "\n",
    "gru_outs = 2 * gru_outs - 1\n",
    "\n",
    "###############SINDy discovery###############\n",
    "\n",
    "x = gru_outs.detach().cpu().numpy()\n",
    "\n",
    "differentiation_method = ps.differentiation.FiniteDifference()\n",
    "# differentiation_method = ps.differentiation.SmoothedFiniteDifference()\n",
    "\n",
    "model = ps.SINDy(\n",
    "    optimizer=ps.STLSQ(threshold=0.0, alpha=0.05),\n",
    "    differentiation_method=differentiation_method,\n",
    "    feature_library=ps.PolynomialLibrary(degree=poly_order)\n",
    ")\n",
    "\n",
    "# model = ps.SINDy(\n",
    "#     optimizer=ps.MIOSR(group_sparsity=(2,2,2), alpha=5000),\n",
    "#     differentiation_method=differentiation_method,\n",
    "#     feature_library=ps.PolynomialLibrary(degree=poly_order),\n",
    "# )\n",
    "import math\n",
    "import numpy as np\n",
    "np.math = math\n",
    "\n",
    "t_points = np.arange(0, len(x)) * (1/52.0)\n",
    "model.fit(x, t=t_points)\n",
    "model.print()\n",
    "\n",
    "\n",
    "###############Plot the discovered SINDy model###############\n",
    "\n",
    "t_train = np.arange(0, 20, 1/52.0)\n",
    "init_cond = np.zeros(latent_dim)\n",
    "init_cond[:latent_dim] = gru_outs[0,:].detach().cpu().numpy()\n",
    "x_sim = model.simulate(init_cond, t_train)\n",
    "\n",
    "fig, ax = plt.subplots(latent_dim)\n",
    "for i in range(latent_dim):\n",
    "    ax[i].plot(gru_outs[:,i].detach().cpu().numpy())\n",
    "    ax[i].plot(x_sim[:,i], \"k--\", label=\"model\")"
   ]
  },
  {
   "cell_type": "code",
   "execution_count": null,
   "id": "cd8aa7e5",
   "metadata": {},
   "outputs": [],
   "source": []
  },
  {
   "cell_type": "code",
   "execution_count": 74,
   "id": "7ba0f5c9",
   "metadata": {},
   "outputs": [],
   "source": [
    "dyn = SINDyDynamics(latent_dim=3, poly_order=1, include_sine=True, dt=1/52)\n",
    "# model = SHRED(sequence_model=\"LSTM\", decoder_model=\"SDN\", dynamics=dyn, lambda_dyn=1e-3)\n",
    "model = SHRED(dynamics=dyn, lambda_dyn=1e-3)"
   ]
  },
  {
   "cell_type": "code",
   "execution_count": null,
   "id": "a0f03e10",
   "metadata": {},
   "outputs": [],
   "source": []
  },
  {
   "cell_type": "code",
   "execution_count": 78,
   "id": "10a1d229",
   "metadata": {},
   "outputs": [
    {
     "name": "stderr",
     "output_type": "stream",
     "text": [
      "Epoch 1/50: 100%|██████████| 16/16 [00:00<00:00, 70.01batch/s, loss=0.0546, L2=12.3]\n"
     ]
    },
    {
     "name": "stdout",
     "output_type": "stream",
     "text": [
      "Epoch 1: train_loss=0.0546, train_L2=12.2810, val_L2=12.4313\n"
     ]
    },
    {
     "name": "stderr",
     "output_type": "stream",
     "text": [
      "Epoch 2/50: 100%|██████████| 16/16 [00:00<00:00, 67.23batch/s, loss=0.0219, L2=8.29]\n"
     ]
    },
    {
     "name": "stdout",
     "output_type": "stream",
     "text": [
      "Epoch 2: train_loss=0.0219, train_L2=8.2923, val_L2=10.0076\n"
     ]
    },
    {
     "name": "stderr",
     "output_type": "stream",
     "text": [
      "Epoch 3/50: 100%|██████████| 16/16 [00:00<00:00, 66.69batch/s, loss=0.019, L2=7.74]\n"
     ]
    },
    {
     "name": "stdout",
     "output_type": "stream",
     "text": [
      "Epoch 3: train_loss=0.0190, train_L2=7.7400, val_L2=9.4974\n"
     ]
    },
    {
     "name": "stderr",
     "output_type": "stream",
     "text": [
      "Epoch 4/50: 100%|██████████| 16/16 [00:00<00:00, 65.74batch/s, loss=0.0181, L2=7.55]\n"
     ]
    },
    {
     "name": "stdout",
     "output_type": "stream",
     "text": [
      "Epoch 4: train_loss=0.0181, train_L2=7.5483, val_L2=9.3843\n"
     ]
    },
    {
     "name": "stderr",
     "output_type": "stream",
     "text": [
      "Epoch 5/50: 100%|██████████| 16/16 [00:00<00:00, 52.70batch/s, loss=0.0176, L2=7.44]\n"
     ]
    },
    {
     "name": "stdout",
     "output_type": "stream",
     "text": [
      "Epoch 5: train_loss=0.0176, train_L2=7.4379, val_L2=9.3183\n"
     ]
    },
    {
     "name": "stderr",
     "output_type": "stream",
     "text": [
      "Epoch 6/50: 100%|██████████| 16/16 [00:00<00:00, 65.91batch/s, loss=0.0173, L2=7.37]\n"
     ]
    },
    {
     "name": "stdout",
     "output_type": "stream",
     "text": [
      "Epoch 6: train_loss=0.0173, train_L2=7.3686, val_L2=9.2503\n"
     ]
    },
    {
     "name": "stderr",
     "output_type": "stream",
     "text": [
      "Epoch 7/50: 100%|██████████| 16/16 [00:00<00:00, 60.92batch/s, loss=0.017, L2=7.32]\n"
     ]
    },
    {
     "name": "stdout",
     "output_type": "stream",
     "text": [
      "Epoch 7: train_loss=0.0170, train_L2=7.3178, val_L2=9.2320\n"
     ]
    },
    {
     "name": "stderr",
     "output_type": "stream",
     "text": [
      "Epoch 8/50: 100%|██████████| 16/16 [00:00<00:00, 67.83batch/s, loss=0.0169, L2=7.29]\n"
     ]
    },
    {
     "name": "stdout",
     "output_type": "stream",
     "text": [
      "Epoch 8: train_loss=0.0169, train_L2=7.2888, val_L2=9.1891\n"
     ]
    },
    {
     "name": "stderr",
     "output_type": "stream",
     "text": [
      "Epoch 9/50: 100%|██████████| 16/16 [00:00<00:00, 53.49batch/s, loss=0.0167, L2=7.25]\n"
     ]
    },
    {
     "name": "stdout",
     "output_type": "stream",
     "text": [
      "Epoch 9: train_loss=0.0167, train_L2=7.2472, val_L2=9.1751\n"
     ]
    },
    {
     "name": "stderr",
     "output_type": "stream",
     "text": [
      "Epoch 10/50: 100%|██████████| 16/16 [00:00<00:00, 73.24batch/s, loss=0.0167, L2=7.24]\n"
     ]
    },
    {
     "name": "stdout",
     "output_type": "stream",
     "text": [
      "Epoch 10: train_loss=0.0167, train_L2=7.2371, val_L2=9.1924\n"
     ]
    },
    {
     "name": "stderr",
     "output_type": "stream",
     "text": [
      "Epoch 11/50: 100%|██████████| 16/16 [00:00<00:00, 65.06batch/s, loss=0.0164, L2=7.19]\n"
     ]
    },
    {
     "name": "stdout",
     "output_type": "stream",
     "text": [
      "Epoch 11: train_loss=0.0164, train_L2=7.1870, val_L2=9.1793\n"
     ]
    },
    {
     "name": "stderr",
     "output_type": "stream",
     "text": [
      "Epoch 12/50: 100%|██████████| 16/16 [00:00<00:00, 73.26batch/s, loss=0.0164, L2=7.18]\n"
     ]
    },
    {
     "name": "stdout",
     "output_type": "stream",
     "text": [
      "Epoch 12: train_loss=0.0164, train_L2=7.1844, val_L2=9.1505\n"
     ]
    },
    {
     "name": "stderr",
     "output_type": "stream",
     "text": [
      "Epoch 13/50: 100%|██████████| 16/16 [00:00<00:00, 64.56batch/s, loss=0.0163, L2=7.17]\n"
     ]
    },
    {
     "name": "stdout",
     "output_type": "stream",
     "text": [
      "Epoch 13: train_loss=0.0163, train_L2=7.1706, val_L2=9.1131\n"
     ]
    },
    {
     "name": "stderr",
     "output_type": "stream",
     "text": [
      "Epoch 14/50: 100%|██████████| 16/16 [00:00<00:00, 72.89batch/s, loss=0.0162, L2=7.13]\n"
     ]
    },
    {
     "name": "stdout",
     "output_type": "stream",
     "text": [
      "Epoch 14: train_loss=0.0162, train_L2=7.1256, val_L2=9.0966\n"
     ]
    },
    {
     "name": "stderr",
     "output_type": "stream",
     "text": [
      "Epoch 15/50: 100%|██████████| 16/16 [00:00<00:00, 66.39batch/s, loss=0.016, L2=7.09]\n"
     ]
    },
    {
     "name": "stdout",
     "output_type": "stream",
     "text": [
      "Epoch 15: train_loss=0.0160, train_L2=7.0923, val_L2=9.0784\n"
     ]
    },
    {
     "name": "stderr",
     "output_type": "stream",
     "text": [
      "Epoch 16/50: 100%|██████████| 16/16 [00:00<00:00, 70.62batch/s, loss=0.016, L2=7.08]\n"
     ]
    },
    {
     "name": "stdout",
     "output_type": "stream",
     "text": [
      "Epoch 16: train_loss=0.0160, train_L2=7.0833, val_L2=9.0819\n"
     ]
    },
    {
     "name": "stderr",
     "output_type": "stream",
     "text": [
      "Epoch 17/50: 100%|██████████| 16/16 [00:00<00:00, 64.84batch/s, loss=0.0159, L2=7.06]\n"
     ]
    },
    {
     "name": "stdout",
     "output_type": "stream",
     "text": [
      "Epoch 17: train_loss=0.0159, train_L2=7.0557, val_L2=9.0337\n"
     ]
    },
    {
     "name": "stderr",
     "output_type": "stream",
     "text": [
      "Epoch 18/50: 100%|██████████| 16/16 [00:00<00:00, 69.71batch/s, loss=0.0158, L2=7.05]\n"
     ]
    },
    {
     "name": "stdout",
     "output_type": "stream",
     "text": [
      "Epoch 18: train_loss=0.0158, train_L2=7.0488, val_L2=9.0561\n"
     ]
    },
    {
     "name": "stderr",
     "output_type": "stream",
     "text": [
      "Epoch 19/50: 100%|██████████| 16/16 [00:00<00:00, 65.40batch/s, loss=0.0157, L2=7.02]\n"
     ]
    },
    {
     "name": "stdout",
     "output_type": "stream",
     "text": [
      "Epoch 19: train_loss=0.0157, train_L2=7.0211, val_L2=9.0006\n"
     ]
    },
    {
     "name": "stderr",
     "output_type": "stream",
     "text": [
      "Epoch 20/50: 100%|██████████| 16/16 [00:00<00:00, 72.35batch/s, loss=0.0155, L2=6.97]\n"
     ]
    },
    {
     "name": "stdout",
     "output_type": "stream",
     "text": [
      "Epoch 20: train_loss=0.0155, train_L2=6.9707, val_L2=8.9932\n"
     ]
    },
    {
     "name": "stderr",
     "output_type": "stream",
     "text": [
      "Epoch 21/50: 100%|██████████| 16/16 [00:00<00:00, 60.38batch/s, loss=0.0154, L2=6.95]\n"
     ]
    },
    {
     "name": "stdout",
     "output_type": "stream",
     "text": [
      "Epoch 21: train_loss=0.0154, train_L2=6.9505, val_L2=8.9025\n"
     ]
    },
    {
     "name": "stderr",
     "output_type": "stream",
     "text": [
      "Epoch 22/50: 100%|██████████| 16/16 [00:00<00:00, 69.67batch/s, loss=0.0152, L2=6.9]\n"
     ]
    },
    {
     "name": "stdout",
     "output_type": "stream",
     "text": [
      "Epoch 22: train_loss=0.0152, train_L2=6.9046, val_L2=8.8482\n"
     ]
    },
    {
     "name": "stderr",
     "output_type": "stream",
     "text": [
      "Epoch 23/50: 100%|██████████| 16/16 [00:00<00:00, 68.26batch/s, loss=0.0151, L2=6.88]\n"
     ]
    },
    {
     "name": "stdout",
     "output_type": "stream",
     "text": [
      "Epoch 23: train_loss=0.0151, train_L2=6.8809, val_L2=8.8142\n"
     ]
    },
    {
     "name": "stderr",
     "output_type": "stream",
     "text": [
      "Epoch 24/50: 100%|██████████| 16/16 [00:00<00:00, 72.22batch/s, loss=0.0149, L2=6.86]\n"
     ]
    },
    {
     "name": "stdout",
     "output_type": "stream",
     "text": [
      "Epoch 24: train_loss=0.0149, train_L2=6.8569, val_L2=8.8829\n"
     ]
    },
    {
     "name": "stderr",
     "output_type": "stream",
     "text": [
      "Epoch 25/50: 100%|██████████| 16/16 [00:00<00:00, 66.57batch/s, loss=0.0149, L2=6.85]\n"
     ]
    },
    {
     "name": "stdout",
     "output_type": "stream",
     "text": [
      "Epoch 25: train_loss=0.0149, train_L2=6.8456, val_L2=8.7403\n"
     ]
    },
    {
     "name": "stderr",
     "output_type": "stream",
     "text": [
      "Epoch 26/50: 100%|██████████| 16/16 [00:00<00:00, 70.64batch/s, loss=0.0147, L2=6.8]\n"
     ]
    },
    {
     "name": "stdout",
     "output_type": "stream",
     "text": [
      "Epoch 26: train_loss=0.0147, train_L2=6.7975, val_L2=8.6967\n"
     ]
    },
    {
     "name": "stderr",
     "output_type": "stream",
     "text": [
      "Epoch 27/50: 100%|██████████| 16/16 [00:00<00:00, 65.66batch/s, loss=0.0147, L2=6.8]\n"
     ]
    },
    {
     "name": "stdout",
     "output_type": "stream",
     "text": [
      "Epoch 27: train_loss=0.0147, train_L2=6.8037, val_L2=8.7119\n"
     ]
    },
    {
     "name": "stderr",
     "output_type": "stream",
     "text": [
      "Epoch 28/50: 100%|██████████| 16/16 [00:00<00:00, 73.01batch/s, loss=0.0146, L2=6.78]\n"
     ]
    },
    {
     "name": "stdout",
     "output_type": "stream",
     "text": [
      "Epoch 28: train_loss=0.0146, train_L2=6.7782, val_L2=8.7127\n"
     ]
    },
    {
     "name": "stderr",
     "output_type": "stream",
     "text": [
      "Epoch 29/50: 100%|██████████| 16/16 [00:00<00:00, 62.30batch/s, loss=0.0146, L2=6.77]\n"
     ]
    },
    {
     "name": "stdout",
     "output_type": "stream",
     "text": [
      "Epoch 29: train_loss=0.0146, train_L2=6.7657, val_L2=8.7034\n"
     ]
    },
    {
     "name": "stderr",
     "output_type": "stream",
     "text": [
      "Epoch 30/50: 100%|██████████| 16/16 [00:00<00:00, 64.79batch/s, loss=0.0145, L2=6.76]\n"
     ]
    },
    {
     "name": "stdout",
     "output_type": "stream",
     "text": [
      "Epoch 30: train_loss=0.0145, train_L2=6.7558, val_L2=8.6558\n"
     ]
    },
    {
     "name": "stderr",
     "output_type": "stream",
     "text": [
      "Epoch 31/50: 100%|██████████| 16/16 [00:00<00:00, 66.02batch/s, loss=0.0145, L2=6.75]\n"
     ]
    },
    {
     "name": "stdout",
     "output_type": "stream",
     "text": [
      "Epoch 31: train_loss=0.0145, train_L2=6.7506, val_L2=8.6818\n"
     ]
    },
    {
     "name": "stderr",
     "output_type": "stream",
     "text": [
      "Epoch 32/50: 100%|██████████| 16/16 [00:00<00:00, 66.93batch/s, loss=0.0146, L2=6.76]\n"
     ]
    },
    {
     "name": "stdout",
     "output_type": "stream",
     "text": [
      "Epoch 32: train_loss=0.0146, train_L2=6.7593, val_L2=8.6262\n"
     ]
    },
    {
     "name": "stderr",
     "output_type": "stream",
     "text": [
      "Epoch 33/50: 100%|██████████| 16/16 [00:00<00:00, 61.33batch/s, loss=0.0143, L2=6.71]\n"
     ]
    },
    {
     "name": "stdout",
     "output_type": "stream",
     "text": [
      "Epoch 33: train_loss=0.0143, train_L2=6.7097, val_L2=8.6649\n"
     ]
    },
    {
     "name": "stderr",
     "output_type": "stream",
     "text": [
      "Epoch 34/50: 100%|██████████| 16/16 [00:00<00:00, 66.63batch/s, loss=0.0143, L2=6.71]\n"
     ]
    },
    {
     "name": "stdout",
     "output_type": "stream",
     "text": [
      "Epoch 34: train_loss=0.0143, train_L2=6.7104, val_L2=8.6515\n"
     ]
    },
    {
     "name": "stderr",
     "output_type": "stream",
     "text": [
      "Epoch 35/50: 100%|██████████| 16/16 [00:00<00:00, 60.94batch/s, loss=0.0144, L2=6.71]\n"
     ]
    },
    {
     "name": "stdout",
     "output_type": "stream",
     "text": [
      "Epoch 35: train_loss=0.0144, train_L2=6.7146, val_L2=8.6125\n"
     ]
    },
    {
     "name": "stderr",
     "output_type": "stream",
     "text": [
      "Epoch 36/50: 100%|██████████| 16/16 [00:00<00:00, 66.13batch/s, loss=0.0143, L2=6.7]\n"
     ]
    },
    {
     "name": "stdout",
     "output_type": "stream",
     "text": [
      "Epoch 36: train_loss=0.0143, train_L2=6.7007, val_L2=8.6881\n"
     ]
    },
    {
     "name": "stderr",
     "output_type": "stream",
     "text": [
      "Epoch 37/50: 100%|██████████| 16/16 [00:00<00:00, 60.19batch/s, loss=0.0142, L2=6.67]\n"
     ]
    },
    {
     "name": "stdout",
     "output_type": "stream",
     "text": [
      "Epoch 37: train_loss=0.0142, train_L2=6.6716, val_L2=8.6208\n"
     ]
    },
    {
     "name": "stderr",
     "output_type": "stream",
     "text": [
      "Epoch 38/50: 100%|██████████| 16/16 [00:00<00:00, 64.55batch/s, loss=0.0142, L2=6.68]\n"
     ]
    },
    {
     "name": "stdout",
     "output_type": "stream",
     "text": [
      "Epoch 38: train_loss=0.0142, train_L2=6.6750, val_L2=8.5853\n"
     ]
    },
    {
     "name": "stderr",
     "output_type": "stream",
     "text": [
      "Epoch 39/50: 100%|██████████| 16/16 [00:00<00:00, 58.55batch/s, loss=0.0143, L2=6.69]\n"
     ]
    },
    {
     "name": "stdout",
     "output_type": "stream",
     "text": [
      "Epoch 39: train_loss=0.0143, train_L2=6.6852, val_L2=8.5775\n"
     ]
    },
    {
     "name": "stderr",
     "output_type": "stream",
     "text": [
      "Epoch 40/50: 100%|██████████| 16/16 [00:00<00:00, 69.63batch/s, loss=0.0142, L2=6.68]\n"
     ]
    },
    {
     "name": "stdout",
     "output_type": "stream",
     "text": [
      "Epoch 40: train_loss=0.0142, train_L2=6.6755, val_L2=8.5982\n"
     ]
    },
    {
     "name": "stderr",
     "output_type": "stream",
     "text": [
      "Epoch 41/50: 100%|██████████| 16/16 [00:00<00:00, 59.91batch/s, loss=0.0141, L2=6.65]\n"
     ]
    },
    {
     "name": "stdout",
     "output_type": "stream",
     "text": [
      "Epoch 41: train_loss=0.0141, train_L2=6.6520, val_L2=8.5704\n"
     ]
    },
    {
     "name": "stderr",
     "output_type": "stream",
     "text": [
      "Epoch 42/50: 100%|██████████| 16/16 [00:00<00:00, 71.80batch/s, loss=0.0141, L2=6.65]\n"
     ]
    },
    {
     "name": "stdout",
     "output_type": "stream",
     "text": [
      "Epoch 42: train_loss=0.0141, train_L2=6.6495, val_L2=8.5851\n"
     ]
    },
    {
     "name": "stderr",
     "output_type": "stream",
     "text": [
      "Epoch 43/50: 100%|██████████| 16/16 [00:00<00:00, 65.12batch/s, loss=0.0139, L2=6.61]\n"
     ]
    },
    {
     "name": "stdout",
     "output_type": "stream",
     "text": [
      "Epoch 43: train_loss=0.0139, train_L2=6.6098, val_L2=8.5939\n"
     ]
    },
    {
     "name": "stderr",
     "output_type": "stream",
     "text": [
      "Epoch 44/50: 100%|██████████| 16/16 [00:00<00:00, 71.58batch/s, loss=0.014, L2=6.63]\n"
     ]
    },
    {
     "name": "stdout",
     "output_type": "stream",
     "text": [
      "Epoch 44: train_loss=0.0140, train_L2=6.6265, val_L2=8.5638\n"
     ]
    },
    {
     "name": "stderr",
     "output_type": "stream",
     "text": [
      "Epoch 45/50: 100%|██████████| 16/16 [00:00<00:00, 60.82batch/s, loss=0.014, L2=6.63]\n"
     ]
    },
    {
     "name": "stdout",
     "output_type": "stream",
     "text": [
      "Epoch 45: train_loss=0.0140, train_L2=6.6334, val_L2=8.5792\n"
     ]
    },
    {
     "name": "stderr",
     "output_type": "stream",
     "text": [
      "Epoch 46/50: 100%|██████████| 16/16 [00:00<00:00, 65.09batch/s, loss=0.0139, L2=6.61]\n"
     ]
    },
    {
     "name": "stdout",
     "output_type": "stream",
     "text": [
      "Epoch 46: train_loss=0.0139, train_L2=6.6076, val_L2=8.6176\n"
     ]
    },
    {
     "name": "stderr",
     "output_type": "stream",
     "text": [
      "Epoch 47/50: 100%|██████████| 16/16 [00:00<00:00, 66.78batch/s, loss=0.0138, L2=6.6]\n"
     ]
    },
    {
     "name": "stdout",
     "output_type": "stream",
     "text": [
      "Epoch 47: train_loss=0.0138, train_L2=6.5975, val_L2=8.5107\n"
     ]
    },
    {
     "name": "stderr",
     "output_type": "stream",
     "text": [
      "Epoch 48/50: 100%|██████████| 16/16 [00:00<00:00, 59.27batch/s, loss=0.0138, L2=6.59]\n"
     ]
    },
    {
     "name": "stdout",
     "output_type": "stream",
     "text": [
      "Epoch 48: train_loss=0.0138, train_L2=6.5891, val_L2=8.6032\n"
     ]
    },
    {
     "name": "stderr",
     "output_type": "stream",
     "text": [
      "Epoch 49/50: 100%|██████████| 16/16 [00:00<00:00, 71.22batch/s, loss=0.0138, L2=6.59]\n"
     ]
    },
    {
     "name": "stdout",
     "output_type": "stream",
     "text": [
      "Epoch 49: train_loss=0.0138, train_L2=6.5914, val_L2=8.5687\n"
     ]
    },
    {
     "name": "stderr",
     "output_type": "stream",
     "text": [
      "Epoch 50/50: 100%|██████████| 16/16 [00:00<00:00, 62.63batch/s, loss=0.0138, L2=6.59]"
     ]
    },
    {
     "name": "stdout",
     "output_type": "stream",
     "text": [
      "Epoch 50: train_loss=0.0138, train_L2=6.5906, val_L2=8.6283\n"
     ]
    },
    {
     "name": "stderr",
     "output_type": "stream",
     "text": [
      "\n"
     ]
    },
    {
     "data": {
      "text/plain": [
       "array([12.43132687, 10.00756454,  9.49737167,  9.38429546,  9.31825066,\n",
       "        9.2502861 ,  9.23198223,  9.18914604,  9.17513752,  9.19237041,\n",
       "        9.17928505,  9.1505146 ,  9.11313438,  9.09661674,  9.07842255,\n",
       "        9.08189487,  9.03371906,  9.05614758,  9.00055695,  8.99321079,\n",
       "        8.90254116,  8.8481741 ,  8.81416702,  8.88291168,  8.74031639,\n",
       "        8.69668961,  8.71192074,  8.71265697,  8.70335388,  8.65582848,\n",
       "        8.68183613,  8.62618351,  8.66485405,  8.651474  ,  8.61249161,\n",
       "        8.68805027,  8.62082672,  8.58533001,  8.57753754,  8.59822083,\n",
       "        8.57037926,  8.58507538,  8.59386826,  8.56378174,  8.5791626 ,\n",
       "        8.61763096,  8.51070213,  8.60322475,  8.56868076,  8.62832928])"
      ]
     },
     "execution_count": 78,
     "metadata": {},
     "output_type": "execute_result"
    }
   ],
   "source": [
    "model.fit(train_dataset=datasets[0], val_dataset=datasets[1], num_epochs=50, sindy=False)"
   ]
  },
  {
   "cell_type": "code",
   "execution_count": 79,
   "id": "7abef04a",
   "metadata": {},
   "outputs": [
    {
     "name": "stdout",
     "output_type": "stream",
     "text": [
      "dz0/dt = 0\n",
      "dz1/dt = 0\n",
      "dz2/dt = 0\n"
     ]
    }
   ],
   "source": [
    "dyn.print_equations()"
   ]
  },
  {
   "cell_type": "code",
   "execution_count": null,
   "id": "60fd6963",
   "metadata": {},
   "outputs": [],
   "source": []
  }
 ],
 "metadata": {
  "kernelspec": {
   "display_name": "datasci",
   "language": "python",
   "name": "python3"
  },
  "language_info": {
   "codemirror_mode": {
    "name": "ipython",
    "version": 3
   },
   "file_extension": ".py",
   "mimetype": "text/x-python",
   "name": "python",
   "nbconvert_exporter": "python",
   "pygments_lexer": "ipython3",
   "version": "3.10.14"
  }
 },
 "nbformat": 4,
 "nbformat_minor": 5
}
